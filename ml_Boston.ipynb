{
  "nbformat": 4,
  "nbformat_minor": 0,
  "metadata": {
    "colab": {
      "provenance": [],
      "authorship_tag": "ABX9TyOOS6dyzvLwaCR7CBJwTejU",
      "include_colab_link": true
    },
    "kernelspec": {
      "name": "python3",
      "display_name": "Python 3"
    },
    "language_info": {
      "name": "python"
    }
  },
  "cells": [
    {
      "cell_type": "markdown",
      "metadata": {
        "id": "view-in-github",
        "colab_type": "text"
      },
      "source": [
        "<a href=\"https://colab.research.google.com/github/Kei-Kobayash/practice_machine_learning/blob/main/ml_Boston.ipynb\" target=\"_parent\"><img src=\"https://colab.research.google.com/assets/colab-badge.svg\" alt=\"Open In Colab\"/></a>"
      ]
    },
    {
      "cell_type": "code",
      "execution_count": 1,
      "metadata": {
        "id": "HKuHS3hOGPXp"
      },
      "outputs": [],
      "source": [
        "import pandas as pd\n",
        "import numpy as np\n",
        "import matplotlib.pyplot as plt\n",
        "from sklearn.linear_model import LinearRegression\n",
        "from sklearn.model_selection import train_test_split"
      ]
    },
    {
      "cell_type": "code",
      "source": [
        "df = pd.read_csv(\"Boston.csv\")\n",
        "df.head()"
      ],
      "metadata": {
        "id": "WTybz56dGm9v"
      },
      "execution_count": null,
      "outputs": []
    },
    {
      "cell_type": "markdown",
      "source": [
        "# Dummy variable"
      ],
      "metadata": {
        "id": "SahI9K3vH6qk"
      }
    },
    {
      "cell_type": "code",
      "source": [
        "df[\"CRIME\"].value_counts()"
      ],
      "metadata": {
        "colab": {
          "base_uri": "https://localhost:8080/"
        },
        "id": "2E4GCT9rGyjf",
        "outputId": "cf6012bb-6398-487b-e756-28091dd6266c"
      },
      "execution_count": 4,
      "outputs": [
        {
          "output_type": "execute_result",
          "data": {
            "text/plain": [
              "very_low    50\n",
              "high        25\n",
              "low         25\n",
              "Name: CRIME, dtype: int64"
            ]
          },
          "metadata": {},
          "execution_count": 4
        }
      ]
    },
    {
      "cell_type": "code",
      "source": [
        "crime = pd.get_dummies(df[\"CRIME\"], drop_first = True)\n",
        "df2 = pd.concat([df, crime], axis = 1)\n",
        "df2 = df2.drop([\"CRIME\"], axis = 1)\n",
        "df2.head(2)"
      ],
      "metadata": {
        "colab": {
          "base_uri": "https://localhost:8080/",
          "height": 112
        },
        "id": "fOdAWn3LHJzq",
        "outputId": "6bd719e5-ceed-4599-e711-da06364df647"
      },
      "execution_count": 6,
      "outputs": [
        {
          "output_type": "execute_result",
          "data": {
            "text/plain": [
              "    ZN  INDUS  CHAS    NOX     RM   AGE     DIS   RAD  TAX  PTRATIO      B  \\\n",
              "0  0.0  18.10     0  0.718  3.561  87.9  1.6132  24.0  666     20.2  354.7   \n",
              "1  0.0   8.14     0  0.538  5.950  82.0  3.9900   4.0  307     21.0  232.6   \n",
              "\n",
              "   LSTAT  PRICE  low  very_low  \n",
              "0   7.12   27.5    0         0  \n",
              "1  27.71   13.2    1         0  "
            ],
            "text/html": [
              "\n",
              "  <div id=\"df-02c1d4e3-9a97-4123-ab88-ae1520801d57\" class=\"colab-df-container\">\n",
              "    <div>\n",
              "<style scoped>\n",
              "    .dataframe tbody tr th:only-of-type {\n",
              "        vertical-align: middle;\n",
              "    }\n",
              "\n",
              "    .dataframe tbody tr th {\n",
              "        vertical-align: top;\n",
              "    }\n",
              "\n",
              "    .dataframe thead th {\n",
              "        text-align: right;\n",
              "    }\n",
              "</style>\n",
              "<table border=\"1\" class=\"dataframe\">\n",
              "  <thead>\n",
              "    <tr style=\"text-align: right;\">\n",
              "      <th></th>\n",
              "      <th>ZN</th>\n",
              "      <th>INDUS</th>\n",
              "      <th>CHAS</th>\n",
              "      <th>NOX</th>\n",
              "      <th>RM</th>\n",
              "      <th>AGE</th>\n",
              "      <th>DIS</th>\n",
              "      <th>RAD</th>\n",
              "      <th>TAX</th>\n",
              "      <th>PTRATIO</th>\n",
              "      <th>B</th>\n",
              "      <th>LSTAT</th>\n",
              "      <th>PRICE</th>\n",
              "      <th>low</th>\n",
              "      <th>very_low</th>\n",
              "    </tr>\n",
              "  </thead>\n",
              "  <tbody>\n",
              "    <tr>\n",
              "      <th>0</th>\n",
              "      <td>0.0</td>\n",
              "      <td>18.10</td>\n",
              "      <td>0</td>\n",
              "      <td>0.718</td>\n",
              "      <td>3.561</td>\n",
              "      <td>87.9</td>\n",
              "      <td>1.6132</td>\n",
              "      <td>24.0</td>\n",
              "      <td>666</td>\n",
              "      <td>20.2</td>\n",
              "      <td>354.7</td>\n",
              "      <td>7.12</td>\n",
              "      <td>27.5</td>\n",
              "      <td>0</td>\n",
              "      <td>0</td>\n",
              "    </tr>\n",
              "    <tr>\n",
              "      <th>1</th>\n",
              "      <td>0.0</td>\n",
              "      <td>8.14</td>\n",
              "      <td>0</td>\n",
              "      <td>0.538</td>\n",
              "      <td>5.950</td>\n",
              "      <td>82.0</td>\n",
              "      <td>3.9900</td>\n",
              "      <td>4.0</td>\n",
              "      <td>307</td>\n",
              "      <td>21.0</td>\n",
              "      <td>232.6</td>\n",
              "      <td>27.71</td>\n",
              "      <td>13.2</td>\n",
              "      <td>1</td>\n",
              "      <td>0</td>\n",
              "    </tr>\n",
              "  </tbody>\n",
              "</table>\n",
              "</div>\n",
              "    <div class=\"colab-df-buttons\">\n",
              "\n",
              "  <div class=\"colab-df-container\">\n",
              "    <button class=\"colab-df-convert\" onclick=\"convertToInteractive('df-02c1d4e3-9a97-4123-ab88-ae1520801d57')\"\n",
              "            title=\"Convert this dataframe to an interactive table.\"\n",
              "            style=\"display:none;\">\n",
              "\n",
              "  <svg xmlns=\"http://www.w3.org/2000/svg\" height=\"24px\" viewBox=\"0 -960 960 960\">\n",
              "    <path d=\"M120-120v-720h720v720H120Zm60-500h600v-160H180v160Zm220 220h160v-160H400v160Zm0 220h160v-160H400v160ZM180-400h160v-160H180v160Zm440 0h160v-160H620v160ZM180-180h160v-160H180v160Zm440 0h160v-160H620v160Z\"/>\n",
              "  </svg>\n",
              "    </button>\n",
              "\n",
              "  <style>\n",
              "    .colab-df-container {\n",
              "      display:flex;\n",
              "      gap: 12px;\n",
              "    }\n",
              "\n",
              "    .colab-df-convert {\n",
              "      background-color: #E8F0FE;\n",
              "      border: none;\n",
              "      border-radius: 50%;\n",
              "      cursor: pointer;\n",
              "      display: none;\n",
              "      fill: #1967D2;\n",
              "      height: 32px;\n",
              "      padding: 0 0 0 0;\n",
              "      width: 32px;\n",
              "    }\n",
              "\n",
              "    .colab-df-convert:hover {\n",
              "      background-color: #E2EBFA;\n",
              "      box-shadow: 0px 1px 2px rgba(60, 64, 67, 0.3), 0px 1px 3px 1px rgba(60, 64, 67, 0.15);\n",
              "      fill: #174EA6;\n",
              "    }\n",
              "\n",
              "    .colab-df-buttons div {\n",
              "      margin-bottom: 4px;\n",
              "    }\n",
              "\n",
              "    [theme=dark] .colab-df-convert {\n",
              "      background-color: #3B4455;\n",
              "      fill: #D2E3FC;\n",
              "    }\n",
              "\n",
              "    [theme=dark] .colab-df-convert:hover {\n",
              "      background-color: #434B5C;\n",
              "      box-shadow: 0px 1px 3px 1px rgba(0, 0, 0, 0.15);\n",
              "      filter: drop-shadow(0px 1px 2px rgba(0, 0, 0, 0.3));\n",
              "      fill: #FFFFFF;\n",
              "    }\n",
              "  </style>\n",
              "\n",
              "    <script>\n",
              "      const buttonEl =\n",
              "        document.querySelector('#df-02c1d4e3-9a97-4123-ab88-ae1520801d57 button.colab-df-convert');\n",
              "      buttonEl.style.display =\n",
              "        google.colab.kernel.accessAllowed ? 'block' : 'none';\n",
              "\n",
              "      async function convertToInteractive(key) {\n",
              "        const element = document.querySelector('#df-02c1d4e3-9a97-4123-ab88-ae1520801d57');\n",
              "        const dataTable =\n",
              "          await google.colab.kernel.invokeFunction('convertToInteractive',\n",
              "                                                    [key], {});\n",
              "        if (!dataTable) return;\n",
              "\n",
              "        const docLinkHtml = 'Like what you see? Visit the ' +\n",
              "          '<a target=\"_blank\" href=https://colab.research.google.com/notebooks/data_table.ipynb>data table notebook</a>'\n",
              "          + ' to learn more about interactive tables.';\n",
              "        element.innerHTML = '';\n",
              "        dataTable['output_type'] = 'display_data';\n",
              "        await google.colab.output.renderOutput(dataTable, element);\n",
              "        const docLink = document.createElement('div');\n",
              "        docLink.innerHTML = docLinkHtml;\n",
              "        element.appendChild(docLink);\n",
              "      }\n",
              "    </script>\n",
              "  </div>\n",
              "\n",
              "\n",
              "<div id=\"df-92588c4f-739f-497a-b211-6de6b5f93fc6\">\n",
              "  <button class=\"colab-df-quickchart\" onclick=\"quickchart('df-92588c4f-739f-497a-b211-6de6b5f93fc6')\"\n",
              "            title=\"Suggest charts.\"\n",
              "            style=\"display:none;\">\n",
              "\n",
              "<svg xmlns=\"http://www.w3.org/2000/svg\" height=\"24px\"viewBox=\"0 0 24 24\"\n",
              "     width=\"24px\">\n",
              "    <g>\n",
              "        <path d=\"M19 3H5c-1.1 0-2 .9-2 2v14c0 1.1.9 2 2 2h14c1.1 0 2-.9 2-2V5c0-1.1-.9-2-2-2zM9 17H7v-7h2v7zm4 0h-2V7h2v10zm4 0h-2v-4h2v4z\"/>\n",
              "    </g>\n",
              "</svg>\n",
              "  </button>\n",
              "\n",
              "<style>\n",
              "  .colab-df-quickchart {\n",
              "    background-color: #E8F0FE;\n",
              "    border: none;\n",
              "    border-radius: 50%;\n",
              "    cursor: pointer;\n",
              "    display: none;\n",
              "    fill: #1967D2;\n",
              "    height: 32px;\n",
              "    padding: 0 0 0 0;\n",
              "    width: 32px;\n",
              "  }\n",
              "\n",
              "  .colab-df-quickchart:hover {\n",
              "    background-color: #E2EBFA;\n",
              "    box-shadow: 0px 1px 2px rgba(60, 64, 67, 0.3), 0px 1px 3px 1px rgba(60, 64, 67, 0.15);\n",
              "    fill: #174EA6;\n",
              "  }\n",
              "\n",
              "  [theme=dark] .colab-df-quickchart {\n",
              "    background-color: #3B4455;\n",
              "    fill: #D2E3FC;\n",
              "  }\n",
              "\n",
              "  [theme=dark] .colab-df-quickchart:hover {\n",
              "    background-color: #434B5C;\n",
              "    box-shadow: 0px 1px 3px 1px rgba(0, 0, 0, 0.15);\n",
              "    filter: drop-shadow(0px 1px 2px rgba(0, 0, 0, 0.3));\n",
              "    fill: #FFFFFF;\n",
              "  }\n",
              "</style>\n",
              "\n",
              "  <script>\n",
              "    async function quickchart(key) {\n",
              "      const charts = await google.colab.kernel.invokeFunction(\n",
              "          'suggestCharts', [key], {});\n",
              "    }\n",
              "    (() => {\n",
              "      let quickchartButtonEl =\n",
              "        document.querySelector('#df-92588c4f-739f-497a-b211-6de6b5f93fc6 button');\n",
              "      quickchartButtonEl.style.display =\n",
              "        google.colab.kernel.accessAllowed ? 'block' : 'none';\n",
              "    })();\n",
              "  </script>\n",
              "</div>\n",
              "    </div>\n",
              "  </div>\n"
            ]
          },
          "metadata": {},
          "execution_count": 6
        }
      ]
    },
    {
      "cell_type": "code",
      "source": [
        "train_val, test = train_test_split(df2, test_size = 0.2, random_state = 0)"
      ],
      "metadata": {
        "id": "dDoCUjyVHoKO"
      },
      "execution_count": 7,
      "outputs": []
    },
    {
      "cell_type": "code",
      "source": [
        "train_val.isnull().sum()"
      ],
      "metadata": {
        "colab": {
          "base_uri": "https://localhost:8080/"
        },
        "id": "eqQCQWLsIGRZ",
        "outputId": "849cce68-4fe2-47fa-ba90-493183353ee3"
      },
      "execution_count": 8,
      "outputs": [
        {
          "output_type": "execute_result",
          "data": {
            "text/plain": [
              "ZN          0\n",
              "INDUS       0\n",
              "CHAS        0\n",
              "NOX         1\n",
              "RM          0\n",
              "AGE         0\n",
              "DIS         0\n",
              "RAD         0\n",
              "TAX         0\n",
              "PTRATIO     0\n",
              "B           0\n",
              "LSTAT       0\n",
              "PRICE       0\n",
              "low         0\n",
              "very_low    0\n",
              "dtype: int64"
            ]
          },
          "metadata": {},
          "execution_count": 8
        }
      ]
    },
    {
      "cell_type": "code",
      "source": [
        "train_val2 = train_val.fillna(train_val.mean())"
      ],
      "metadata": {
        "id": "MDZt5HU9IKlv"
      },
      "execution_count": 9,
      "outputs": []
    },
    {
      "cell_type": "code",
      "source": [
        "train_val2.isnull().sum()"
      ],
      "metadata": {
        "colab": {
          "base_uri": "https://localhost:8080/"
        },
        "id": "buwQqlzSIZmN",
        "outputId": "2f6d4d3f-df14-446c-fb4f-15087f1e66e0"
      },
      "execution_count": 10,
      "outputs": [
        {
          "output_type": "execute_result",
          "data": {
            "text/plain": [
              "ZN          0\n",
              "INDUS       0\n",
              "CHAS        0\n",
              "NOX         0\n",
              "RM          0\n",
              "AGE         0\n",
              "DIS         0\n",
              "RAD         0\n",
              "TAX         0\n",
              "PTRATIO     0\n",
              "B           0\n",
              "LSTAT       0\n",
              "PRICE       0\n",
              "low         0\n",
              "very_low    0\n",
              "dtype: int64"
            ]
          },
          "metadata": {},
          "execution_count": 10
        }
      ]
    },
    {
      "cell_type": "code",
      "source": [
        "colnames = train_val2.columns\n",
        "\n",
        "num_cols = 5\n",
        "\n",
        "fig, ax = plt.subplots(nrows = 3, ncols = 5, figsize= (15, 10))\n",
        "\n",
        "for i, colname in enumerate(colnames):\n",
        "   row = i // num_cols  # Calculate row index\n",
        "   col = i % num_cols\n",
        "   ax[row, col].scatter(train_val2[colname], train_val2[\"PRICE\"])\n",
        "   ax[row, col].set_xlabel(colname)"
      ],
      "metadata": {
        "colab": {
          "base_uri": "https://localhost:8080/",
          "height": 850
        },
        "id": "-6h3-xBLIdT3",
        "outputId": "fd1f22fb-65fa-4e89-9ab0-8b42a130fa53"
      },
      "execution_count": 29,
      "outputs": [
        {
          "output_type": "display_data",
          "data": {
            "text/plain": [
              "<Figure size 1500x1000 with 15 Axes>"
            ],
            "image/png": "[encoded data removed]"
          },
          "metadata": {}
        }
      ]
    },
    {
      "cell_type": "markdown",
      "source": [
        "### INDUS, NOX, RM, PTRATIO, LSTAT seem to relate to PRICE"
      ],
      "metadata": {
        "id": "6bctBguOODFU"
      }
    },
    {
      "cell_type": "code",
      "source": [
        "out_line1 = train_val2[(train_val2[\"RM\"] < 6) & (train_val2[\"PRICE\"] > 40)].index\n",
        "\n",
        "out_line2 = train_val2[(train_val2[\"PTRATIO\"] > 18) & (train_val2[\"PRICE\"] > 40)].index\n",
        "\n",
        "print(out_line1, out_line2)"
      ],
      "metadata": {
        "colab": {
          "base_uri": "https://localhost:8080/"
        },
        "id": "-ep44WP4MYoO",
        "outputId": "78ca31dd-3724-4cfe-e707-09d1f8ead367"
      },
      "execution_count": 30,
      "outputs": [
        {
          "output_type": "stream",
          "name": "stdout",
          "text": [
            "Int64Index([76], dtype='int64') Int64Index([76], dtype='int64')\n"
          ]
        }
      ]
    },
    {
      "cell_type": "code",
      "source": [
        "train_val3 = train_val2.drop([76], axis =0)"
      ],
      "metadata": {
        "id": "z-MfY9hPPCHq"
      },
      "execution_count": 31,
      "outputs": []
    },
    {
      "cell_type": "code",
      "source": [
        "cols = [\"INDUS\", \"NOX\", \"RM\", \"PTRATIO\", \"LSTAT\", \"PRICE\"]\n",
        "train_val4 = train_val3[cols]\n",
        "\n",
        "train_val4.head()"
      ],
      "metadata": {
        "colab": {
          "base_uri": "https://localhost:8080/",
          "height": 206
        },
        "id": "gEAvIi4kPQJW",
        "outputId": "d9f92294-98cd-492d-e97a-b432fae5440b"
      },
      "execution_count": 39,
      "outputs": [
        {
          "output_type": "execute_result",
          "data": {
            "text/plain": [
              "    INDUS    NOX     RM  PTRATIO  LSTAT  PRICE\n",
              "43   5.86  0.431  6.108     19.1   9.16   24.3\n",
              "62   5.86  0.431  6.957     19.1   3.53   29.6\n",
              "3   21.89  0.624  6.151     21.2  18.46   17.8\n",
              "71   3.64  0.392  6.108     16.4   6.57   21.9\n",
              "45   5.64  0.439  5.963     16.8  13.45   19.7"
            ],
            "text/html": [
              "\n",
              "  <div id=\"df-4f0959e1-3a9b-4fa4-9b5a-8256e735ab40\" class=\"colab-df-container\">\n",
              "    <div>\n",
              "<style scoped>\n",
              "    .dataframe tbody tr th:only-of-type {\n",
              "        vertical-align: middle;\n",
              "    }\n",
              "\n",
              "    .dataframe tbody tr th {\n",
              "        vertical-align: top;\n",
              "    }\n",
              "\n",
              "    .dataframe thead th {\n",
              "        text-align: right;\n",
              "    }\n",
              "</style>\n",
              "<table border=\"1\" class=\"dataframe\">\n",
              "  <thead>\n",
              "    <tr style=\"text-align: right;\">\n",
              "      <th></th>\n",
              "      <th>INDUS</th>\n",
              "      <th>NOX</th>\n",
              "      <th>RM</th>\n",
              "      <th>PTRATIO</th>\n",
              "      <th>LSTAT</th>\n",
              "      <th>PRICE</th>\n",
              "    </tr>\n",
              "  </thead>\n",
              "  <tbody>\n",
              "    <tr>\n",
              "      <th>43</th>\n",
              "      <td>5.86</td>\n",
              "      <td>0.431</td>\n",
              "      <td>6.108</td>\n",
              "      <td>19.1</td>\n",
              "      <td>9.16</td>\n",
              "      <td>24.3</td>\n",
              "    </tr>\n",
              "    <tr>\n",
              "      <th>62</th>\n",
              "      <td>5.86</td>\n",
              "      <td>0.431</td>\n",
              "      <td>6.957</td>\n",
              "      <td>19.1</td>\n",
              "      <td>3.53</td>\n",
              "      <td>29.6</td>\n",
              "    </tr>\n",
              "    <tr>\n",
              "      <th>3</th>\n",
              "      <td>21.89</td>\n",
              "      <td>0.624</td>\n",
              "      <td>6.151</td>\n",
              "      <td>21.2</td>\n",
              "      <td>18.46</td>\n",
              "      <td>17.8</td>\n",
              "    </tr>\n",
              "    <tr>\n",
              "      <th>71</th>\n",
              "      <td>3.64</td>\n",
              "      <td>0.392</td>\n",
              "      <td>6.108</td>\n",
              "      <td>16.4</td>\n",
              "      <td>6.57</td>\n",
              "      <td>21.9</td>\n",
              "    </tr>\n",
              "    <tr>\n",
              "      <th>45</th>\n",
              "      <td>5.64</td>\n",
              "      <td>0.439</td>\n",
              "      <td>5.963</td>\n",
              "      <td>16.8</td>\n",
              "      <td>13.45</td>\n",
              "      <td>19.7</td>\n",
              "    </tr>\n",
              "  </tbody>\n",
              "</table>\n",
              "</div>\n",
              "    <div class=\"colab-df-buttons\">\n",
              "\n",
              "  <div class=\"colab-df-container\">\n",
              "    <button class=\"colab-df-convert\" onclick=\"convertToInteractive('df-4f0959e1-3a9b-4fa4-9b5a-8256e735ab40')\"\n",
              "            title=\"Convert this dataframe to an interactive table.\"\n",
              "            style=\"display:none;\">\n",
              "\n",
              "  <svg xmlns=\"http://www.w3.org/2000/svg\" height=\"24px\" viewBox=\"0 -960 960 960\">\n",
              "    <path d=\"M120-120v-720h720v720H120Zm60-500h600v-160H180v160Zm220 220h160v-160H400v160Zm0 220h160v-160H400v160ZM180-400h160v-160H180v160Zm440 0h160v-160H620v160ZM180-180h160v-160H180v160Zm440 0h160v-160H620v160Z\"/>\n",
              "  </svg>\n",
              "    </button>\n",
              "\n",
              "  <style>\n",
              "    .colab-df-container {\n",
              "      display:flex;\n",
              "      gap: 12px;\n",
              "    }\n",
              "\n",
              "    .colab-df-convert {\n",
              "      background-color: #E8F0FE;\n",
              "      border: none;\n",
              "      border-radius: 50%;\n",
              "      cursor: pointer;\n",
              "      display: none;\n",
              "      fill: #1967D2;\n",
              "      height: 32px;\n",
              "      padding: 0 0 0 0;\n",
              "      width: 32px;\n",
              "    }\n",
              "\n",
              "    .colab-df-convert:hover {\n",
              "      background-color: #E2EBFA;\n",
              "      box-shadow: 0px 1px 2px rgba(60, 64, 67, 0.3), 0px 1px 3px 1px rgba(60, 64, 67, 0.15);\n",
              "      fill: #174EA6;\n",
              "    }\n",
              "\n",
              "    .colab-df-buttons div {\n",
              "      margin-bottom: 4px;\n",
              "    }\n",
              "\n",
              "    [theme=dark] .colab-df-convert {\n",
              "      background-color: #3B4455;\n",
              "      fill: #D2E3FC;\n",
              "    }\n",
              "\n",
              "    [theme=dark] .colab-df-convert:hover {\n",
              "      background-color: #434B5C;\n",
              "      box-shadow: 0px 1px 3px 1px rgba(0, 0, 0, 0.15);\n",
              "      filter: drop-shadow(0px 1px 2px rgba(0, 0, 0, 0.3));\n",
              "      fill: #FFFFFF;\n",
              "    }\n",
              "  </style>\n",
              "\n",
              "    <script>\n",
              "      const buttonEl =\n",
              "        document.querySelector('#df-4f0959e1-3a9b-4fa4-9b5a-8256e735ab40 button.colab-df-convert');\n",
              "      buttonEl.style.display =\n",
              "        google.colab.kernel.accessAllowed ? 'block' : 'none';\n",
              "\n",
              "      async function convertToInteractive(key) {\n",
              "        const element = document.querySelector('#df-4f0959e1-3a9b-4fa4-9b5a-8256e735ab40');\n",
              "        const dataTable =\n",
              "          await google.colab.kernel.invokeFunction('convertToInteractive',\n",
              "                                                    [key], {});\n",
              "        if (!dataTable) return;\n",
              "\n",
              "        const docLinkHtml = 'Like what you see? Visit the ' +\n",
              "          '<a target=\"_blank\" href=https://colab.research.google.com/notebooks/data_table.ipynb>data table notebook</a>'\n",
              "          + ' to learn more about interactive tables.';\n",
              "        element.innerHTML = '';\n",
              "        dataTable['output_type'] = 'display_data';\n",
              "        await google.colab.output.renderOutput(dataTable, element);\n",
              "        const docLink = document.createElement('div');\n",
              "        docLink.innerHTML = docLinkHtml;\n",
              "        element.appendChild(docLink);\n",
              "      }\n",
              "    </script>\n",
              "  </div>\n",
              "\n",
              "\n",
              "<div id=\"df-d83cde44-0f71-413a-bae2-26549621b12e\">\n",
              "  <button class=\"colab-df-quickchart\" onclick=\"quickchart('df-d83cde44-0f71-413a-bae2-26549621b12e')\"\n",
              "            title=\"Suggest charts.\"\n",
              "            style=\"display:none;\">\n",
              "\n",
              "<svg xmlns=\"http://www.w3.org/2000/svg\" height=\"24px\"viewBox=\"0 0 24 24\"\n",
              "     width=\"24px\">\n",
              "    <g>\n",
              "        <path d=\"M19 3H5c-1.1 0-2 .9-2 2v14c0 1.1.9 2 2 2h14c1.1 0 2-.9 2-2V5c0-1.1-.9-2-2-2zM9 17H7v-7h2v7zm4 0h-2V7h2v10zm4 0h-2v-4h2v4z\"/>\n",
              "    </g>\n",
              "</svg>\n",
              "  </button>\n",
              "\n",
              "<style>\n",
              "  .colab-df-quickchart {\n",
              "    background-color: #E8F0FE;\n",
              "    border: none;\n",
              "    border-radius: 50%;\n",
              "    cursor: pointer;\n",
              "    display: none;\n",
              "    fill: #1967D2;\n",
              "    height: 32px;\n",
              "    padding: 0 0 0 0;\n",
              "    width: 32px;\n",
              "  }\n",
              "\n",
              "  .colab-df-quickchart:hover {\n",
              "    background-color: #E2EBFA;\n",
              "    box-shadow: 0px 1px 2px rgba(60, 64, 67, 0.3), 0px 1px 3px 1px rgba(60, 64, 67, 0.15);\n",
              "    fill: #174EA6;\n",
              "  }\n",
              "\n",
              "  [theme=dark] .colab-df-quickchart {\n",
              "    background-color: #3B4455;\n",
              "    fill: #D2E3FC;\n",
              "  }\n",
              "\n",
              "  [theme=dark] .colab-df-quickchart:hover {\n",
              "    background-color: #434B5C;\n",
              "    box-shadow: 0px 1px 3px 1px rgba(0, 0, 0, 0.15);\n",
              "    filter: drop-shadow(0px 1px 2px rgba(0, 0, 0, 0.3));\n",
              "    fill: #FFFFFF;\n",
              "  }\n",
              "</style>\n",
              "\n",
              "  <script>\n",
              "    async function quickchart(key) {\n",
              "      const charts = await google.colab.kernel.invokeFunction(\n",
              "          'suggestCharts', [key], {});\n",
              "    }\n",
              "    (() => {\n",
              "      let quickchartButtonEl =\n",
              "        document.querySelector('#df-d83cde44-0f71-413a-bae2-26549621b12e button');\n",
              "      quickchartButtonEl.style.display =\n",
              "        google.colab.kernel.accessAllowed ? 'block' : 'none';\n",
              "    })();\n",
              "  </script>\n",
              "</div>\n",
              "    </div>\n",
              "  </div>\n"
            ]
          },
          "metadata": {},
          "execution_count": 39
        }
      ]
    },
    {
      "cell_type": "code",
      "source": [
        "train_cor = train_val4.corr()[\"PRICE\"]\n",
        "abs_cor = train_cor.map(abs)"
      ],
      "metadata": {
        "id": "nG4aQanSPgm3"
      },
      "execution_count": 37,
      "outputs": []
    },
    {
      "cell_type": "code",
      "source": [
        "abs_cor.sort_values(ascending = False)"
      ],
      "metadata": {
        "colab": {
          "base_uri": "https://localhost:8080/"
        },
        "id": "5AZ-uWCfPlVE",
        "outputId": "77b53d56-6da9-4431-fd6b-e84736623c39"
      },
      "execution_count": 38,
      "outputs": [
        {
          "output_type": "execute_result",
          "data": {
            "text/plain": [
              "PRICE      1.000000\n",
              "RM         0.753771\n",
              "LSTAT      0.693490\n",
              "PTRATIO    0.542449\n",
              "INDUS      0.470889\n",
              "NOX        0.325289\n",
              "Name: PRICE, dtype: float64"
            ]
          },
          "metadata": {},
          "execution_count": 38
        }
      ]
    },
    {
      "cell_type": "markdown",
      "source": [
        "# Split the data"
      ],
      "metadata": {
        "id": "1Hby0Ic_SBlI"
      }
    },
    {
      "cell_type": "code",
      "source": [
        "features = [\"RM\", \"LSTAT\", \"PTRATIO\"]\n",
        "\n",
        "x = train_val4[features]\n",
        "t = train_val4[[\"PRICE\"]]\n",
        "\n",
        "x_train, x_val, t_train, t_val = train_test_split(x, t, test_size = 0.2, random_state = 0)"
      ],
      "metadata": {
        "id": "6JweyzV6P_zd"
      },
      "execution_count": 47,
      "outputs": []
    },
    {
      "cell_type": "markdown",
      "source": [
        "# Standadization"
      ],
      "metadata": {
        "id": "itCdfLfDVbKt"
      }
    },
    {
      "cell_type": "code",
      "source": [
        "from sklearn.preprocessing import StandardScaler\n",
        "\n",
        "sc_model_x = StandardScaler()\n",
        "sc_model_x.fit(x_train)\n",
        "\n",
        "sc_x = sc_model_x.transform(x_train)\n",
        "sc_x"
      ],
      "metadata": {
        "colab": {
          "base_uri": "https://localhost:8080/"
        },
        "id": "Tob6ilV3SbAN",
        "outputId": "e014f027-0c93-476d-d1e3-6ae2ff3a1a4c"
      },
      "execution_count": 48,
      "outputs": [
        {
          "output_type": "execute_result",
          "data": {
            "text/plain": [
              "array([[-0.10238334, -0.89546338, -0.97250163],\n",
              "       [-0.11741281, -0.37386886,  1.21732721],\n",
              "       [-0.92274224,  2.49984836,  0.83648742],\n",
              "       [ 1.60346221, -1.37747891, -2.59107078],\n",
              "       [-0.21134704, -0.36821472, -0.30603198],\n",
              "       [ 0.28337322, -0.54632017, -0.87729168],\n",
              "       [ 2.01927772, -1.55275729, -1.7817862 ],\n",
              "       [-0.42551707, -0.58448562,  0.36043767],\n",
              "       [-0.39420567,  0.21557535, -1.7817862 ],\n",
              "       [-0.21886178, -0.00634969,  0.02720284],\n",
              "       [-0.48438252,  0.24525959,  0.83648742],\n",
              "       [ 0.02411475,  0.04453758,  0.83648742],\n",
              "       [ 0.31092726, -1.31669689,  0.31283269],\n",
              "       [ 2.08315299, -1.28559912, -1.7817862 ],\n",
              "       [-0.98411261,  1.56550154,  0.07480782],\n",
              "       [-0.28398951,  0.07704889, -0.78208173],\n",
              "       [-0.9039554 ,  1.91040415, -1.7817862 ],\n",
              "       [ 0.23828479,  1.52450902,  0.83648742],\n",
              "       [-0.12993738, -0.28622968, -0.49645188],\n",
              "       [-0.18629791, -0.73573389,  0.55085757],\n",
              "       [-0.37917619,  0.48697412,  0.83648742],\n",
              "       [ 0.9897586 , -0.17597392,  0.83648742],\n",
              "       [ 0.02411475, -0.81489187, -0.87729168],\n",
              "       [-3.29238966, -0.81771894,  0.83648742],\n",
              "       [-1.10935824,  1.94150192,  0.83648742],\n",
              "       [-0.0460228 ,  0.03464283, -0.30603198],\n",
              "       [ 0.9609521 , -1.32517811,  0.31283269],\n",
              "       [-0.83882767,  1.64748659,  0.83648742],\n",
              "       [-0.22637651,  0.05160526, -1.54376133],\n",
              "       [ 0.43617289, -0.73149329,  0.07480782],\n",
              "       [-0.34535987,  0.76685411, -0.02040213],\n",
              "       [-0.30027144,  2.0927502 ,  1.21732721],\n",
              "       [-0.98411261,  0.05301879, -1.7817862 ],\n",
              "       [-0.13369475, -0.01624444,  0.55085757],\n",
              "       [ 3.14899334, -1.100426  , -2.59107078],\n",
              "       [-0.38794338, -0.12367312, -1.7817862 ],\n",
              "       [-0.10238334, -0.52935774,  0.31283269],\n",
              "       [ 0.5451366 , -0.8841551 , -0.21082203],\n",
              "       [ 0.33973375,  0.72727512,  0.83648742],\n",
              "       [ 2.04182193, -1.31952396, -0.21082203],\n",
              "       [-0.97409295,  2.35284069,  0.07480782],\n",
              "       [ 0.26834374,  1.04673409,  0.83648742],\n",
              "       [-0.20007493,  0.83329027, -0.25842701],\n",
              "       [ 0.46998921, -0.47988401, -0.87729168],\n",
              "       [-0.35663198, -0.20565816,  0.83648742],\n",
              "       [ 0.1405932 , -0.87426035,  0.26522772],\n",
              "       [-0.28148459,  0.13076323,  1.21732721],\n",
              "       [ 1.21895811, -0.92514762, -0.49645188],\n",
              "       [ 0.41989096,  0.7385834 ,  0.83648742],\n",
              "       [ 0.06544581, -0.30601917,  0.83648742],\n",
              "       [-0.28023214, -0.39224482,  0.36043767],\n",
              "       [-0.60587079, -0.06713171, -0.73447676],\n",
              "       [-0.20007493, -0.71029026,  1.21732721],\n",
              "       [ 0.2896355 , -0.53218481, -0.30603198],\n",
              "       [-0.42426462,  0.50393655,  1.16972224],\n",
              "       [ 1.97293683, -0.75552339, -0.30603198],\n",
              "       [-0.41674988,  1.18950116,  1.31253716],\n",
              "       [-0.56203482,  0.03464283,  0.59846254],\n",
              "       [ 0.15061285, -0.87001975,  0.83648742],\n",
              "       [-2.56972234,  1.47503528,  0.83648742],\n",
              "       [-0.95530611,  0.73999694,  0.83648742],\n",
              "       [ 0.04540651, -0.38941775,  0.31283269],\n",
              "       [ 1.24651215, -1.25450134, -0.30603198]])"
            ]
          },
          "metadata": {},
          "execution_count": 48
        }
      ]
    },
    {
      "cell_type": "code",
      "source": [
        "temp_df = pd.DataFrame(sc_x, columns = x_train.columns)\n",
        "temp_df.mean()"
      ],
      "metadata": {
        "colab": {
          "base_uri": "https://localhost:8080/"
        },
        "id": "fzV7h-93UIBH",
        "outputId": "5141799d-3b8b-418d-9448-8334f104cd82"
      },
      "execution_count": 49,
      "outputs": [
        {
          "output_type": "execute_result",
          "data": {
            "text/plain": [
              "RM        -3.418782e-16\n",
              "LSTAT      1.445052e-16\n",
              "PTRATIO   -1.436241e-16\n",
              "dtype: float64"
            ]
          },
          "metadata": {},
          "execution_count": 49
        }
      ]
    },
    {
      "cell_type": "code",
      "source": [
        "temp_df.std()"
      ],
      "metadata": {
        "colab": {
          "base_uri": "https://localhost:8080/"
        },
        "id": "hukqq9XXUZHL",
        "outputId": "8f65a6c9-383b-4baf-aebf-409449190feb"
      },
      "execution_count": 50,
      "outputs": [
        {
          "output_type": "execute_result",
          "data": {
            "text/plain": [
              "RM         1.008032\n",
              "LSTAT      1.008032\n",
              "PTRATIO    1.008032\n",
              "dtype: float64"
            ]
          },
          "metadata": {},
          "execution_count": 50
        }
      ]
    },
    {
      "cell_type": "code",
      "source": [
        "sc_model_t = StandardScaler()\n",
        "sc_model_t.fit(t_train)\n",
        "\n",
        "sc_t = sc_model_t.transform(t_train)"
      ],
      "metadata": {
        "id": "vLsi4nL5UeNZ"
      },
      "execution_count": 54,
      "outputs": []
    },
    {
      "cell_type": "code",
      "source": [
        "sc_x_val = sc_model_x.transform(x_val)\n",
        "sc_t_val = sc_model_t.transform(t_val)"
      ],
      "metadata": {
        "id": "fI_yI-YpVdj-"
      },
      "execution_count": 57,
      "outputs": []
    },
    {
      "cell_type": "markdown",
      "source": [
        "# Modelling"
      ],
      "metadata": {
        "id": "GEbqoY6DVKu5"
      }
    },
    {
      "cell_type": "code",
      "source": [
        "model = LinearRegression()\n",
        "model.fit(sc_x, sc_t)\n",
        "model.score(sc_x_val, sc_t_val)"
      ],
      "metadata": {
        "colab": {
          "base_uri": "https://localhost:8080/"
        },
        "id": "4d54Z9q8UpnE",
        "outputId": "b103081a-c062-4f33-cae0-fa45dfb7d38d"
      },
      "execution_count": 58,
      "outputs": [
        {
          "output_type": "execute_result",
          "data": {
            "text/plain": [
              "0.7359028880291"
            ]
          },
          "metadata": {},
          "execution_count": 58
        }
      ]
    },
    {
      "cell_type": "markdown",
      "source": [
        "# Create Learn function\n",
        "\n",
        "1.   input\n",
        "2.   output\n",
        "\n"
      ],
      "metadata": {
        "id": "T7bfcZm2XmTa"
      }
    },
    {
      "cell_type": "code",
      "source": [
        "def learn(x, t):\n",
        "  x_train, x_val, t_train, t_val = train_test_split(x, t, test_size = 0.2, random_state = 0)\n",
        "\n",
        "  # Standardization\n",
        "  sc_model_x = StandardScaler()\n",
        "  sc_model_t = StandardScaler()\n",
        "\n",
        "  sc_model_x.fit(x_train)\n",
        "  sc_x_train = sc_model_x.transform(x_train)\n",
        "\n",
        "  sc_model_t.fit(t_train)\n",
        "  sc_t_train = sc_model_t.transform(t_train)\n",
        "\n",
        "  model = LinearRegression()\n",
        "  model.fit(sc_x_train, sc_t_train)\n",
        "\n",
        "  sc_x_val= sc_model_x.transform(x_val)\n",
        "  sc_t_val= sc_model_t.transform(t_val)\n",
        "\n",
        "  train_score = model.score(sc_x_train, sc_t_train)\n",
        "  val_score = model.score(sc_x_val, sc_t_val)\n",
        "\n",
        "  return train_score, val_score"
      ],
      "metadata": {
        "id": "OLCwp9qkW0yr"
      },
      "execution_count": 75,
      "outputs": []
    },
    {
      "cell_type": "code",
      "source": [
        "x = train_val3.loc[ :, [\"RM\", \"LSTAT\", \"PTRATIO\"]]\n",
        "t = train_val3[[\"PRICE\"]]\n",
        "\n",
        "s1, s2 = learn(x, t)\n",
        "print(s1, s2)"
      ],
      "metadata": {
        "colab": {
          "base_uri": "https://localhost:8080/"
        },
        "id": "eRZv3yltZJpk",
        "outputId": "e9f8dcbd-0944-4c86-aa6a-6e10e13b687b"
      },
      "execution_count": 76,
      "outputs": [
        {
          "output_type": "stream",
          "name": "stdout",
          "text": [
            "0.717589757251598 0.7359028880291\n"
          ]
        }
      ]
    },
    {
      "cell_type": "code",
      "source": [
        "t.shape"
      ],
      "metadata": {
        "colab": {
          "base_uri": "https://localhost:8080/"
        },
        "id": "UNf5mzMXZZku",
        "outputId": "faa2bee9-7013-4492-cce7-495223b0266b"
      },
      "execution_count": 71,
      "outputs": [
        {
          "output_type": "execute_result",
          "data": {
            "text/plain": [
              "(79, 1)"
            ]
          },
          "metadata": {},
          "execution_count": 71
        }
      ]
    },
    {
      "cell_type": "markdown",
      "source": [
        "# Feature engineering (manipulation)"
      ],
      "metadata": {
        "id": "7fiyABe3isEm"
      }
    },
    {
      "cell_type": "code",
      "source": [
        "x[\"RM2\"] = x[\"RM\"]**2\n",
        "\n",
        "s1, s2 = learn(x, t)\n",
        "print(s1, s2)"
      ],
      "metadata": {
        "colab": {
          "base_uri": "https://localhost:8080/"
        },
        "id": "4YdpdkjDb1oh",
        "outputId": "0830438f-07a6-4db8-ce86-93fbea50dd80"
      },
      "execution_count": 77,
      "outputs": [
        {
          "output_type": "stream",
          "name": "stdout",
          "text": [
            "0.8456207631185566 0.8372526287986779\n"
          ]
        }
      ]
    },
    {
      "cell_type": "code",
      "source": [
        "x[\"LSTAT2\"] = x[\"LSTAT\"]**2\n",
        "x[\"PTRATIO2\"] = x[\"PTRATIO\"]**2"
      ],
      "metadata": {
        "id": "HgyyUuJujuEd"
      },
      "execution_count": 80,
      "outputs": []
    },
    {
      "cell_type": "code",
      "source": [
        "x[\"RM*LSTAT\"] = x[\"RM\"] * x[\"LSTAT\"]\n",
        "x.head(2)"
      ],
      "metadata": {
        "colab": {
          "base_uri": "https://localhost:8080/",
          "height": 112
        },
        "id": "8iXRyG4DjPJt",
        "outputId": "d099b858-407c-4561-b9ed-827987cba775"
      },
      "execution_count": 81,
      "outputs": [
        {
          "output_type": "execute_result",
          "data": {
            "text/plain": [
              "       RM  LSTAT  PTRATIO        RM2  RM*LSTAT   LSTAT2  PTRATIO2\n",
              "43  6.108   9.16     19.1  37.307664  55.94928  83.9056    364.81\n",
              "62  6.957   3.53     19.1  48.399849  24.55821  12.4609    364.81"
            ],
            "text/html": [
              "\n",
              "  <div id=\"df-8110197d-9441-4944-917a-6d203ca68cc2\" class=\"colab-df-container\">\n",
              "    <div>\n",
              "<style scoped>\n",
              "    .dataframe tbody tr th:only-of-type {\n",
              "        vertical-align: middle;\n",
              "    }\n",
              "\n",
              "    .dataframe tbody tr th {\n",
              "        vertical-align: top;\n",
              "    }\n",
              "\n",
              "    .dataframe thead th {\n",
              "        text-align: right;\n",
              "    }\n",
              "</style>\n",
              "<table border=\"1\" class=\"dataframe\">\n",
              "  <thead>\n",
              "    <tr style=\"text-align: right;\">\n",
              "      <th></th>\n",
              "      <th>RM</th>\n",
              "      <th>LSTAT</th>\n",
              "      <th>PTRATIO</th>\n",
              "      <th>RM2</th>\n",
              "      <th>RM*LSTAT</th>\n",
              "      <th>LSTAT2</th>\n",
              "      <th>PTRATIO2</th>\n",
              "    </tr>\n",
              "  </thead>\n",
              "  <tbody>\n",
              "    <tr>\n",
              "      <th>43</th>\n",
              "      <td>6.108</td>\n",
              "      <td>9.16</td>\n",
              "      <td>19.1</td>\n",
              "      <td>37.307664</td>\n",
              "      <td>55.94928</td>\n",
              "      <td>83.9056</td>\n",
              "      <td>364.81</td>\n",
              "    </tr>\n",
              "    <tr>\n",
              "      <th>62</th>\n",
              "      <td>6.957</td>\n",
              "      <td>3.53</td>\n",
              "      <td>19.1</td>\n",
              "      <td>48.399849</td>\n",
              "      <td>24.55821</td>\n",
              "      <td>12.4609</td>\n",
              "      <td>364.81</td>\n",
              "    </tr>\n",
              "  </tbody>\n",
              "</table>\n",
              "</div>\n",
              "    <div class=\"colab-df-buttons\">\n",
              "\n",
              "  <div class=\"colab-df-container\">\n",
              "    <button class=\"colab-df-convert\" onclick=\"convertToInteractive('df-8110197d-9441-4944-917a-6d203ca68cc2')\"\n",
              "            title=\"Convert this dataframe to an interactive table.\"\n",
              "            style=\"display:none;\">\n",
              "\n",
              "  <svg xmlns=\"http://www.w3.org/2000/svg\" height=\"24px\" viewBox=\"0 -960 960 960\">\n",
              "    <path d=\"M120-120v-720h720v720H120Zm60-500h600v-160H180v160Zm220 220h160v-160H400v160Zm0 220h160v-160H400v160ZM180-400h160v-160H180v160Zm440 0h160v-160H620v160ZM180-180h160v-160H180v160Zm440 0h160v-160H620v160Z\"/>\n",
              "  </svg>\n",
              "    </button>\n",
              "\n",
              "  <style>\n",
              "    .colab-df-container {\n",
              "      display:flex;\n",
              "      gap: 12px;\n",
              "    }\n",
              "\n",
              "    .colab-df-convert {\n",
              "      background-color: #E8F0FE;\n",
              "      border: none;\n",
              "      border-radius: 50%;\n",
              "      cursor: pointer;\n",
              "      display: none;\n",
              "      fill: #1967D2;\n",
              "      height: 32px;\n",
              "      padding: 0 0 0 0;\n",
              "      width: 32px;\n",
              "    }\n",
              "\n",
              "    .colab-df-convert:hover {\n",
              "      background-color: #E2EBFA;\n",
              "      box-shadow: 0px 1px 2px rgba(60, 64, 67, 0.3), 0px 1px 3px 1px rgba(60, 64, 67, 0.15);\n",
              "      fill: #174EA6;\n",
              "    }\n",
              "\n",
              "    .colab-df-buttons div {\n",
              "      margin-bottom: 4px;\n",
              "    }\n",
              "\n",
              "    [theme=dark] .colab-df-convert {\n",
              "      background-color: #3B4455;\n",
              "      fill: #D2E3FC;\n",
              "    }\n",
              "\n",
              "    [theme=dark] .colab-df-convert:hover {\n",
              "      background-color: #434B5C;\n",
              "      box-shadow: 0px 1px 3px 1px rgba(0, 0, 0, 0.15);\n",
              "      filter: drop-shadow(0px 1px 2px rgba(0, 0, 0, 0.3));\n",
              "      fill: #FFFFFF;\n",
              "    }\n",
              "  </style>\n",
              "\n",
              "    <script>\n",
              "      const buttonEl =\n",
              "        document.querySelector('#df-8110197d-9441-4944-917a-6d203ca68cc2 button.colab-df-convert');\n",
              "      buttonEl.style.display =\n",
              "        google.colab.kernel.accessAllowed ? 'block' : 'none';\n",
              "\n",
              "      async function convertToInteractive(key) {\n",
              "        const element = document.querySelector('#df-8110197d-9441-4944-917a-6d203ca68cc2');\n",
              "        const dataTable =\n",
              "          await google.colab.kernel.invokeFunction('convertToInteractive',\n",
              "                                                    [key], {});\n",
              "        if (!dataTable) return;\n",
              "\n",
              "        const docLinkHtml = 'Like what you see? Visit the ' +\n",
              "          '<a target=\"_blank\" href=https://colab.research.google.com/notebooks/data_table.ipynb>data table notebook</a>'\n",
              "          + ' to learn more about interactive tables.';\n",
              "        element.innerHTML = '';\n",
              "        dataTable['output_type'] = 'display_data';\n",
              "        await google.colab.output.renderOutput(dataTable, element);\n",
              "        const docLink = document.createElement('div');\n",
              "        docLink.innerHTML = docLinkHtml;\n",
              "        element.appendChild(docLink);\n",
              "      }\n",
              "    </script>\n",
              "  </div>\n",
              "\n",
              "\n",
              "<div id=\"df-f37052ec-291c-4608-bb4d-d1e98986a310\">\n",
              "  <button class=\"colab-df-quickchart\" onclick=\"quickchart('df-f37052ec-291c-4608-bb4d-d1e98986a310')\"\n",
              "            title=\"Suggest charts.\"\n",
              "            style=\"display:none;\">\n",
              "\n",
              "<svg xmlns=\"http://www.w3.org/2000/svg\" height=\"24px\"viewBox=\"0 0 24 24\"\n",
              "     width=\"24px\">\n",
              "    <g>\n",
              "        <path d=\"M19 3H5c-1.1 0-2 .9-2 2v14c0 1.1.9 2 2 2h14c1.1 0 2-.9 2-2V5c0-1.1-.9-2-2-2zM9 17H7v-7h2v7zm4 0h-2V7h2v10zm4 0h-2v-4h2v4z\"/>\n",
              "    </g>\n",
              "</svg>\n",
              "  </button>\n",
              "\n",
              "<style>\n",
              "  .colab-df-quickchart {\n",
              "    background-color: #E8F0FE;\n",
              "    border: none;\n",
              "    border-radius: 50%;\n",
              "    cursor: pointer;\n",
              "    display: none;\n",
              "    fill: #1967D2;\n",
              "    height: 32px;\n",
              "    padding: 0 0 0 0;\n",
              "    width: 32px;\n",
              "  }\n",
              "\n",
              "  .colab-df-quickchart:hover {\n",
              "    background-color: #E2EBFA;\n",
              "    box-shadow: 0px 1px 2px rgba(60, 64, 67, 0.3), 0px 1px 3px 1px rgba(60, 64, 67, 0.15);\n",
              "    fill: #174EA6;\n",
              "  }\n",
              "\n",
              "  [theme=dark] .colab-df-quickchart {\n",
              "    background-color: #3B4455;\n",
              "    fill: #D2E3FC;\n",
              "  }\n",
              "\n",
              "  [theme=dark] .colab-df-quickchart:hover {\n",
              "    background-color: #434B5C;\n",
              "    box-shadow: 0px 1px 3px 1px rgba(0, 0, 0, 0.15);\n",
              "    filter: drop-shadow(0px 1px 2px rgba(0, 0, 0, 0.3));\n",
              "    fill: #FFFFFF;\n",
              "  }\n",
              "</style>\n",
              "\n",
              "  <script>\n",
              "    async function quickchart(key) {\n",
              "      const charts = await google.colab.kernel.invokeFunction(\n",
              "          'suggestCharts', [key], {});\n",
              "    }\n",
              "    (() => {\n",
              "      let quickchartButtonEl =\n",
              "        document.querySelector('#df-f37052ec-291c-4608-bb4d-d1e98986a310 button');\n",
              "      quickchartButtonEl.style.display =\n",
              "        google.colab.kernel.accessAllowed ? 'block' : 'none';\n",
              "    })();\n",
              "  </script>\n",
              "</div>\n",
              "    </div>\n",
              "  </div>\n"
            ]
          },
          "metadata": {},
          "execution_count": 81
        }
      ]
    },
    {
      "cell_type": "code",
      "source": [
        "s1, s2 = learn(x, t)\n",
        "print(s1, s2)"
      ],
      "metadata": {
        "colab": {
          "base_uri": "https://localhost:8080/"
        },
        "id": "ivKD_9m1jnY9",
        "outputId": "b273d449-1835-4208-adc6-53a5a0e1b0d4"
      },
      "execution_count": 82,
      "outputs": [
        {
          "output_type": "stream",
          "name": "stdout",
          "text": [
            "0.8668534967796697 0.8739347357775971\n"
          ]
        }
      ]
    },
    {
      "cell_type": "markdown",
      "source": [
        "# relearn"
      ],
      "metadata": {
        "id": "tcCfcUUKkFgY"
      }
    },
    {
      "cell_type": "code",
      "source": [
        "sc_model_x2 = StandardScaler()\n",
        "sc_model_x2.fit(x)\n",
        "sc_x = sc_model_x2.transform(x)\n",
        "\n",
        "sc_model_t2 = StandardScaler()\n",
        "sc_model_t2.fit(t)\n",
        "sc_t = sc_model_t2.transform(t)\n",
        "\n",
        "model = LinearRegression()\n",
        "model.fit(sc_x, sc_t)"
      ],
      "metadata": {
        "colab": {
          "base_uri": "https://localhost:8080/",
          "height": 75
        },
        "id": "asTEwyJqj9JR",
        "outputId": "9a90a29d-dc1e-4cd9-8f49-d170d8dc4456"
      },
      "execution_count": 84,
      "outputs": [
        {
          "output_type": "execute_result",
          "data": {
            "text/plain": [
              "LinearRegression()"
            ],
            "text/html": [
              "<style>#sk-container-id-1 {color: black;background-color: white;}#sk-container-id-1 pre{padding: 0;}#sk-container-id-1 div.sk-toggleable {background-color: white;}#sk-container-id-1 label.sk-toggleable__label {cursor: pointer;display: block;width: 100%;margin-bottom: 0;padding: 0.3em;box-sizing: border-box;text-align: center;}#sk-container-id-1 label.sk-toggleable__label-arrow:before {content: \"▸\";float: left;margin-right: 0.25em;color: #696969;}#sk-container-id-1 label.sk-toggleable__label-arrow:hover:before {color: black;}#sk-container-id-1 div.sk-estimator:hover label.sk-toggleable__label-arrow:before {color: black;}#sk-container-id-1 div.sk-toggleable__content {max-height: 0;max-width: 0;overflow: hidden;text-align: left;background-color: #f0f8ff;}#sk-container-id-1 div.sk-toggleable__content pre {margin: 0.2em;color: black;border-radius: 0.25em;background-color: #f0f8ff;}#sk-container-id-1 input.sk-toggleable__control:checked~div.sk-toggleable__content {max-height: 200px;max-width: 100%;overflow: auto;}#sk-container-id-1 input.sk-toggleable__control:checked~label.sk-toggleable__label-arrow:before {content: \"▾\";}#sk-container-id-1 div.sk-estimator input.sk-toggleable__control:checked~label.sk-toggleable__label {background-color: #d4ebff;}#sk-container-id-1 div.sk-label input.sk-toggleable__control:checked~label.sk-toggleable__label {background-color: #d4ebff;}#sk-container-id-1 input.sk-hidden--visually {border: 0;clip: rect(1px 1px 1px 1px);clip: rect(1px, 1px, 1px, 1px);height: 1px;margin: -1px;overflow: hidden;padding: 0;position: absolute;width: 1px;}#sk-container-id-1 div.sk-estimator {font-family: monospace;background-color: #f0f8ff;border: 1px dotted black;border-radius: 0.25em;box-sizing: border-box;margin-bottom: 0.5em;}#sk-container-id-1 div.sk-estimator:hover {background-color: #d4ebff;}#sk-container-id-1 div.sk-parallel-item::after {content: \"\";width: 100%;border-bottom: 1px solid gray;flex-grow: 1;}#sk-container-id-1 div.sk-label:hover label.sk-toggleable__label {background-color: #d4ebff;}#sk-container-id-1 div.sk-serial::before {content: \"\";position: absolute;border-left: 1px solid gray;box-sizing: border-box;top: 0;bottom: 0;left: 50%;z-index: 0;}#sk-container-id-1 div.sk-serial {display: flex;flex-direction: column;align-items: center;background-color: white;padding-right: 0.2em;padding-left: 0.2em;position: relative;}#sk-container-id-1 div.sk-item {position: relative;z-index: 1;}#sk-container-id-1 div.sk-parallel {display: flex;align-items: stretch;justify-content: center;background-color: white;position: relative;}#sk-container-id-1 div.sk-item::before, #sk-container-id-1 div.sk-parallel-item::before {content: \"\";position: absolute;border-left: 1px solid gray;box-sizing: border-box;top: 0;bottom: 0;left: 50%;z-index: -1;}#sk-container-id-1 div.sk-parallel-item {display: flex;flex-direction: column;z-index: 1;position: relative;background-color: white;}#sk-container-id-1 div.sk-parallel-item:first-child::after {align-self: flex-end;width: 50%;}#sk-container-id-1 div.sk-parallel-item:last-child::after {align-self: flex-start;width: 50%;}#sk-container-id-1 div.sk-parallel-item:only-child::after {width: 0;}#sk-container-id-1 div.sk-dashed-wrapped {border: 1px dashed gray;margin: 0 0.4em 0.5em 0.4em;box-sizing: border-box;padding-bottom: 0.4em;background-color: white;}#sk-container-id-1 div.sk-label label {font-family: monospace;font-weight: bold;display: inline-block;line-height: 1.2em;}#sk-container-id-1 div.sk-label-container {text-align: center;}#sk-container-id-1 div.sk-container {/* jupyter's `normalize.less` sets `[hidden] { display: none; }` but bootstrap.min.css set `[hidden] { display: none !important; }` so we also need the `!important` here to be able to override the default hidden behavior on the sphinx rendered scikit-learn.org. See: https://github.com/scikit-learn/scikit-learn/issues/21755 */display: inline-block !important;position: relative;}#sk-container-id-1 div.sk-text-repr-fallback {display: none;}</style><div id=\"sk-container-id-1\" class=\"sk-top-container\"><div class=\"sk-text-repr-fallback\"><pre>LinearRegression()</pre><b>In a Jupyter environment, please rerun this cell to show the HTML representation or trust the notebook. <br />On GitHub, the HTML representation is unable to render, please try loading this page with nbviewer.org.</b></div><div class=\"sk-container\" hidden><div class=\"sk-item\"><div class=\"sk-estimator sk-toggleable\"><input class=\"sk-toggleable__control sk-hidden--visually\" id=\"sk-estimator-id-1\" type=\"checkbox\" checked><label for=\"sk-estimator-id-1\" class=\"sk-toggleable__label sk-toggleable__label-arrow\">LinearRegression</label><div class=\"sk-toggleable__content\"><pre>LinearRegression()</pre></div></div></div></div></div>"
            ]
          },
          "metadata": {},
          "execution_count": 84
        }
      ]
    },
    {
      "cell_type": "code",
      "source": [
        "test2 = test.fillna(train_val.mean())\n",
        "x_test = test2.loc[:, [\"RM\", \"LSTAT\", \"PTRATIO\"]]\n",
        "t_test = test2[[\"PRICE\"]]\n",
        "\n",
        "x_test[\"RM2\"] = x_test[\"RM\"]**2\n",
        "x_test[\"RM*LSTAT\"] = x_test[\"RM\"] * x_test[\"LSTAT\"]\n",
        "x_test[\"LSTAT2\"] = x_test[\"LSTAT\"]**2\n",
        "x_test[\"PTRATIO2\"] = x_test[\"PTRATIO\"]**2\n",
        "\n",
        "sc_x_test = sc_model_x2.transform(x_test)\n",
        "sc_t_test = sc_model_t2.transform(t_test)\n",
        "\n",
        "model.score(sc_x_test, sc_t_test)"
      ],
      "metadata": {
        "colab": {
          "base_uri": "https://localhost:8080/"
        },
        "id": "x_ocXvickneQ",
        "outputId": "9c5a2bbf-8d73-4f75-aa52-0ed8583d6007"
      },
      "execution_count": 90,
      "outputs": [
        {
          "output_type": "execute_result",
          "data": {
            "text/plain": [
              "0.7649249353669056"
            ]
          },
          "metadata": {},
          "execution_count": 90
        }
      ]
    },
    {
      "cell_type": "markdown",
      "source": [
        "note: the order of the features should be the same as that of the data used in training."
      ],
      "metadata": {
        "id": "W7_7qzCMnDHp"
      }
    },
    {
      "cell_type": "code",
      "source": [],
      "metadata": {
        "id": "gUXqn-Wyl_Fy"
      },
      "execution_count": null,
      "outputs": []
    }
  ]
}